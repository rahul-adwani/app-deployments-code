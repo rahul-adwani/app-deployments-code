{
 "cells": [
  {
   "cell_type": "code",
   "execution_count": 2,
   "metadata": {},
   "outputs": [
    {
     "name": "stdout",
     "output_type": "stream",
     "text": [
      "Enter Function: TIME_SERIES_MONTHLY\n",
      "Enter Stock Code: INFY\n",
      "Enter API Key: SZ1H8MS5IERRJ4F8\n",
      "Enter Data Type (csv/json): csv\n"
     ]
    }
   ],
   "source": [
    "function = input(\"Enter Function: \")\n",
    "symbol = input(\"Enter Stock Code: \")\n",
    "APIKEY = input(\"Enter API Key: \")\n",
    "datatype = input(\"Enter Data Type (csv/json): \")"
   ]
  },
  {
   "cell_type": "code",
   "execution_count": 3,
   "metadata": {},
   "outputs": [],
   "source": [
    "URL = 'https://www.alphavantage.co/query?function='+function+'&symbol='+symbol+'&apikey='+APIKEY+'&datatype='+datatype"
   ]
  },
  {
   "cell_type": "code",
   "execution_count": 9,
   "metadata": {},
   "outputs": [
    {
     "name": "stdout",
     "output_type": "stream",
     "text": [
      "ADANIPORTS\n"
     ]
    },
    {
     "data": {
      "text/plain": [
       "'https://www.alphavantage.co/query?function=TIME_SERIES_MONTHLY&symbol=ADANIPORTS&apikey=SZ1H8MS5IERRJ4F8&datatype=csv'"
      ]
     },
     "execution_count": 9,
     "metadata": {},
     "output_type": "execute_result"
    }
   ],
   "source": [
    "symbol = input()\n",
    "URLp1 = 'https://www.alphavantage.co/query?function=TIME_SERIES_MONTHLY&symbol='\n",
    "URLp2 = str(symbol)\n",
    "URLp3 = '&apikey=SZ1H8MS5IERRJ4F8&datatype=csv'\n",
    "URL = URLp1 + URLp2 + URLp3\n",
    "URL"
   ]
  },
  {
   "cell_type": "code",
   "execution_count": 4,
   "metadata": {},
   "outputs": [
    {
     "data": {
      "text/html": [
       "<div>\n",
       "<style scoped>\n",
       "    .dataframe tbody tr th:only-of-type {\n",
       "        vertical-align: middle;\n",
       "    }\n",
       "\n",
       "    .dataframe tbody tr th {\n",
       "        vertical-align: top;\n",
       "    }\n",
       "\n",
       "    .dataframe thead th {\n",
       "        text-align: right;\n",
       "    }\n",
       "</style>\n",
       "<table border=\"1\" class=\"dataframe\">\n",
       "  <thead>\n",
       "    <tr style=\"text-align: right;\">\n",
       "      <th></th>\n",
       "      <th>timestamp</th>\n",
       "      <th>open</th>\n",
       "      <th>high</th>\n",
       "      <th>low</th>\n",
       "      <th>close</th>\n",
       "      <th>volume</th>\n",
       "    </tr>\n",
       "  </thead>\n",
       "  <tbody>\n",
       "    <tr>\n",
       "      <th>0</th>\n",
       "      <td>2021-04-16</td>\n",
       "      <td>18.92</td>\n",
       "      <td>19.5599</td>\n",
       "      <td>17.240</td>\n",
       "      <td>18.18</td>\n",
       "      <td>89997569</td>\n",
       "    </tr>\n",
       "    <tr>\n",
       "      <th>1</th>\n",
       "      <td>2021-03-31</td>\n",
       "      <td>17.42</td>\n",
       "      <td>19.3700</td>\n",
       "      <td>17.380</td>\n",
       "      <td>18.72</td>\n",
       "      <td>214864988</td>\n",
       "    </tr>\n",
       "    <tr>\n",
       "      <th>2</th>\n",
       "      <td>2021-02-26</td>\n",
       "      <td>17.19</td>\n",
       "      <td>18.1600</td>\n",
       "      <td>16.940</td>\n",
       "      <td>17.12</td>\n",
       "      <td>143908958</td>\n",
       "    </tr>\n",
       "    <tr>\n",
       "      <th>3</th>\n",
       "      <td>2021-01-29</td>\n",
       "      <td>17.39</td>\n",
       "      <td>19.0733</td>\n",
       "      <td>16.875</td>\n",
       "      <td>16.88</td>\n",
       "      <td>186502254</td>\n",
       "    </tr>\n",
       "    <tr>\n",
       "      <th>4</th>\n",
       "      <td>2020-12-31</td>\n",
       "      <td>15.49</td>\n",
       "      <td>17.0300</td>\n",
       "      <td>15.170</td>\n",
       "      <td>16.95</td>\n",
       "      <td>168842555</td>\n",
       "    </tr>\n",
       "    <tr>\n",
       "      <th>...</th>\n",
       "      <td>...</td>\n",
       "      <td>...</td>\n",
       "      <td>...</td>\n",
       "      <td>...</td>\n",
       "      <td>...</td>\n",
       "      <td>...</td>\n",
       "    </tr>\n",
       "    <tr>\n",
       "      <th>252</th>\n",
       "      <td>2000-04-28</td>\n",
       "      <td>180.80</td>\n",
       "      <td>284.6000</td>\n",
       "      <td>131.100</td>\n",
       "      <td>203.00</td>\n",
       "      <td>6454700</td>\n",
       "    </tr>\n",
       "    <tr>\n",
       "      <th>253</th>\n",
       "      <td>2000-03-31</td>\n",
       "      <td>287.00</td>\n",
       "      <td>375.0000</td>\n",
       "      <td>180.000</td>\n",
       "      <td>193.00</td>\n",
       "      <td>4077500</td>\n",
       "    </tr>\n",
       "    <tr>\n",
       "      <th>254</th>\n",
       "      <td>2000-02-29</td>\n",
       "      <td>327.90</td>\n",
       "      <td>681.0000</td>\n",
       "      <td>239.100</td>\n",
       "      <td>270.30</td>\n",
       "      <td>3390450</td>\n",
       "    </tr>\n",
       "    <tr>\n",
       "      <th>255</th>\n",
       "      <td>2000-01-31</td>\n",
       "      <td>375.00</td>\n",
       "      <td>402.0000</td>\n",
       "      <td>266.000</td>\n",
       "      <td>324.90</td>\n",
       "      <td>1648800</td>\n",
       "    </tr>\n",
       "    <tr>\n",
       "      <th>256</th>\n",
       "      <td>1999-12-31</td>\n",
       "      <td>210.10</td>\n",
       "      <td>360.0000</td>\n",
       "      <td>204.100</td>\n",
       "      <td>330.00</td>\n",
       "      <td>1569800</td>\n",
       "    </tr>\n",
       "  </tbody>\n",
       "</table>\n",
       "<p>257 rows × 6 columns</p>\n",
       "</div>"
      ],
      "text/plain": [
       "      timestamp    open      high      low   close     volume\n",
       "0    2021-04-16   18.92   19.5599   17.240   18.18   89997569\n",
       "1    2021-03-31   17.42   19.3700   17.380   18.72  214864988\n",
       "2    2021-02-26   17.19   18.1600   16.940   17.12  143908958\n",
       "3    2021-01-29   17.39   19.0733   16.875   16.88  186502254\n",
       "4    2020-12-31   15.49   17.0300   15.170   16.95  168842555\n",
       "..          ...     ...       ...      ...     ...        ...\n",
       "252  2000-04-28  180.80  284.6000  131.100  203.00    6454700\n",
       "253  2000-03-31  287.00  375.0000  180.000  193.00    4077500\n",
       "254  2000-02-29  327.90  681.0000  239.100  270.30    3390450\n",
       "255  2000-01-31  375.00  402.0000  266.000  324.90    1648800\n",
       "256  1999-12-31  210.10  360.0000  204.100  330.00    1569800\n",
       "\n",
       "[257 rows x 6 columns]"
      ]
     },
     "execution_count": 4,
     "metadata": {},
     "output_type": "execute_result"
    }
   ],
   "source": [
    "import pandas as pd\n",
    "ccssvv = pd.read_csv(URL)\n",
    "ccssvv"
   ]
  },
  {
   "cell_type": "code",
   "execution_count": null,
   "metadata": {},
   "outputs": [],
   "source": []
  }
 ],
 "metadata": {
  "kernelspec": {
   "display_name": "Python 3",
   "language": "python",
   "name": "python3"
  },
  "language_info": {
   "codemirror_mode": {
    "name": "ipython",
    "version": 3
   },
   "file_extension": ".py",
   "mimetype": "text/x-python",
   "name": "python",
   "nbconvert_exporter": "python",
   "pygments_lexer": "ipython3",
   "version": "3.7.4"
  }
 },
 "nbformat": 4,
 "nbformat_minor": 2
}
